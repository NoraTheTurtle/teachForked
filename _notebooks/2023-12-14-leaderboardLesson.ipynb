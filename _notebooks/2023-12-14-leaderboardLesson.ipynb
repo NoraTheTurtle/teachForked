{
 "cells": [
  {
   "cell_type": "markdown",
   "metadata": {},
   "source": [
    "---\n",
    "layout: base\n",
    "title: Leaderboard Lesson\n",
    "authors: Nora A, Katie K, Timbur V.\n",
    "type: collab\n",
    "courses: { csse: {week: 15} }\n",
    "---"
   ]
  },
  {
   "cell_type": "markdown",
   "metadata": {},
   "source": [
    "## What We Did!"
   ]
  },
  {
   "cell_type": "markdown",
   "metadata": {},
   "source": [
    "we created a leaderboard based on the time it take you to complete the level.  To do this we implemented local storage to collect and save your scores onto your computer to create a leaderboard that never goes away."
   ]
  },
  {
   "cell_type": "markdown",
   "metadata": {},
   "source": [
    "#### STEP ONE\n",
    "\n",
    "in the main oop-game-levels.md start by adding a DIV to show the time/score (you can customize colors and font sizes to your liking)"
   ]
  },
  {
   "cell_type": "code",
   "execution_count": null,
   "metadata": {
    "vscode": {
     "languageId": "javascript"
    }
   },
   "outputs": [],
   "source": [
    "<div id=\"score\" style=\"position: absolute; top: 75px; left: 10px; color: black; font-size: 20px; background-color: white;\">\n",
    "   Time: <span id=\"timeScore\">0</span>\n",
    "</div>"
   ]
  },
  {
   "cell_type": "markdown",
   "metadata": {},
   "source": [
    "#### STEP TWO\n",
    "\n",
    "create a button for the leaderboard screen"
   ]
  },
  {
   "cell_type": "code",
   "execution_count": null,
   "metadata": {
    "vscode": {
     "languageId": "javascript"
    }
   },
   "outputs": [],
   "source": [
    "<button id=\"leaderboardButton\">Leaderboard</button>"
   ]
  },
  {
   "cell_type": "markdown",
   "metadata": {},
   "source": [
    "#### STEP THREE\n",
    "\n",
    "add a function to show the leaderboard screen/switch to the leaderboard screen.  place this code bellow the assets enemies"
   ]
  },
  {
   "cell_type": "code",
   "execution_count": null,
   "metadata": {
    "vscode": {
     "languageId": "javascript"
    }
   },
   "outputs": [],
   "source": [
    "// Function to switch to the leaderboard screen\n",
    "function showLeaderboard() {\n",
    "    // Hide game canvas and controls\n",
    "    document.getElementById('canvasContainer').style.display = 'none';\n",
    "    document.getElementById('controls').style.display = 'none';\n",
    " \n",
    " \n",
    "    // Create and display leaderboard section\n",
    "    const leaderboardSection = document.createElement('div');\n",
    "    leaderboardSection.id = 'leaderboardSection';\n",
    "    leaderboardSection.innerHTML = '<h1 style=\"text-align: center; font-size: 18px;\">Leaderboard</h1>';\n",
    " \n",
    " \n",
    "    document.body.appendChild(leaderboardSection);\n",
    " }\n",
    " \n",
    " \n",
    " // Event listener for the leaderboard button click\n",
    " document.getElementById('leaderboardButton').addEventListener('click', showLeaderboard);"
   ]
  },
  {
   "cell_type": "markdown",
   "metadata": {},
   "source": [
    "#### STEP FOUR\n",
    "\n",
    "\n"
   ]
  },
  {
   "cell_type": "code",
   "execution_count": null,
   "metadata": {
    "vscode": {
     "languageId": "javascript"
    }
   },
   "outputs": [],
   "source": [
    "export async function gameOverCallBack() {\n",
    "    const id = document.getElementById(\"gameOver\");\n",
    "    id.hidden = false;\n",
    "   \n",
    "   \n",
    "    const playerScore = document.getElementById(\"timeScore\").innerHTML\n",
    "    const playerName = prompt(`You scored ${playerScore}! What is your name?`)\n",
    "    let temp = localStorage.getItem(\"playerScores\")\n",
    "   \n",
    "   \n",
    "    temp += playerName + \",\" + playerScore.toString() + \";\";\n",
    "    localStorage.setItem(\"playerScores\", temp)\n",
    "   \n",
    "   \n",
    "    // Use waitForRestart to wait for the restart button click\n",
    "    await waitForButton('restartGame');\n",
    "    id.hidden = true;\n",
    "   \n",
    "   \n",
    "    // Change currentLevel to start/restart value of null\n",
    "    GameEnv.currentLevel = null;\n",
    "    return true;\n",
    "   }\n",
    "\n",
    "   \n",
    "   export  function waitForButton(buttonName) {\n",
    "    // resolve the button click\n",
    "    return new Promise((resolve) => {\n",
    "        const waitButton = document.getElementById(buttonName);\n",
    "        const waitButtonListener = () => {\n",
    "            resolve(true);\n",
    "        };\n",
    "        waitButton.addEventListener('click', waitButtonListener);\n",
    "    });\n",
    "   }\n",
    "   \n",
    "   \n",
    "   // Start button callback\n",
    "   export async function startGameCallback() {\n",
    "    const id = document.getElementById(\"gameBegin\");\n",
    "    id.hidden = false;\n",
    "    // Use waitForRestart to wait for the restart button click\n",
    "    await waitForButton('startGame');\n",
    "    id.hidden = true;\n",
    "    return true;\n",
    "   }\n",
    "   \n",
    "   \n",
    "   // Home screen exits on Game Begin button\n",
    "   export function homeScreenCallback() {\n",
    "    // gameBegin hidden means game has started\n",
    "    const id = document.getElementById(\"gameBegin\");\n",
    "    return id.hidden;\n",
    "   }\n",
    "   "
   ]
  }
 ],
 "metadata": {
  "language_info": {
   "name": "python"
  },
  "orig_nbformat": 4
 },
 "nbformat": 4,
 "nbformat_minor": 2
}
